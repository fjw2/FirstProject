{
 "cells": [
  {
   "cell_type": "markdown",
   "metadata": {},
   "source": [
    "# Project: Investigate a Movie Dataset (TMDb)\n",
    "\n",
    "## Table of Contents\n",
    "<ul>\n",
    "<li><a href=\"#intro\">Introduction</a></li>\n",
    "<li><a href=\"#wrangling\">Data Wrangling</a></li>\n",
    "<li><a href=\"#eda\">Exploratory Data Analysis</a></li>\n",
    "<li><a href=\"#conclusions\">Conclusions</a></li>\n",
    "</ul>"
   ]
  },
  {
   "cell_type": "markdown",
   "metadata": {},
   "source": [
    "<a id='intro'></a>\n",
    "## Introduction\n",
    "\n",
    "I have decided to do an analysis of the TMDb movie dataset.  This dataset includes a list of around 10,000 movies and attributes such as genre, cast, budget, etc.\n",
    "\n",
    "I plan on manipulating the data to answer these questions:\n",
    "\n",
    ">What year had the highest average rating?\n",
    "\n",
    ">What was the average budget over each year?\n",
    "\n",
    ">What is the average runtime of a movie?\n",
    "\n",
    ">Does budget affect a movie's rating?"
   ]
  },
  {
   "cell_type": "code",
   "execution_count": 1,
   "metadata": {},
   "outputs": [],
   "source": [
    "#importing all packages needed for analyzing the data\n",
    "import numpy as np\n",
    "import pandas as pd\n",
    "import matplotlib.pyplot as plt\n",
    "import csv\n",
    "#'magic word' to help plot data visually\n",
    "%matplotlib inline"
   ]
  },
  {
   "cell_type": "markdown",
   "metadata": {},
   "source": [
    "<a id='wrangling'></a>\n",
    "## Data Wrangling\n",
    "\n",
    "We are loading the first few rows of the dataset to determine what information will be absolutely necessary to answer the proposed questions.\n"
   ]
  },
  {
   "cell_type": "code",
   "execution_count": 2,
   "metadata": {},
   "outputs": [
    {
     "data": {
      "text/html": [
       "<div>\n",
       "<style scoped>\n",
       "    .dataframe tbody tr th:only-of-type {\n",
       "        vertical-align: middle;\n",
       "    }\n",
       "\n",
       "    .dataframe tbody tr th {\n",
       "        vertical-align: top;\n",
       "    }\n",
       "\n",
       "    .dataframe thead th {\n",
       "        text-align: right;\n",
       "    }\n",
       "</style>\n",
       "<table border=\"1\" class=\"dataframe\">\n",
       "  <thead>\n",
       "    <tr style=\"text-align: right;\">\n",
       "      <th></th>\n",
       "      <th>id</th>\n",
       "      <th>imdb_id</th>\n",
       "      <th>popularity</th>\n",
       "      <th>budget</th>\n",
       "      <th>revenue</th>\n",
       "      <th>original_title</th>\n",
       "      <th>cast</th>\n",
       "      <th>homepage</th>\n",
       "      <th>director</th>\n",
       "      <th>tagline</th>\n",
       "      <th>...</th>\n",
       "      <th>overview</th>\n",
       "      <th>runtime</th>\n",
       "      <th>genres</th>\n",
       "      <th>production_companies</th>\n",
       "      <th>release_date</th>\n",
       "      <th>vote_count</th>\n",
       "      <th>vote_average</th>\n",
       "      <th>release_year</th>\n",
       "      <th>budget_adj</th>\n",
       "      <th>revenue_adj</th>\n",
       "    </tr>\n",
       "  </thead>\n",
       "  <tbody>\n",
       "    <tr>\n",
       "      <th>0</th>\n",
       "      <td>135397</td>\n",
       "      <td>tt0369610</td>\n",
       "      <td>32.985763</td>\n",
       "      <td>150000000</td>\n",
       "      <td>1513528810</td>\n",
       "      <td>Jurassic World</td>\n",
       "      <td>Chris Pratt|Bryce Dallas Howard|Irrfan Khan|Vi...</td>\n",
       "      <td>http://www.jurassicworld.com/</td>\n",
       "      <td>Colin Trevorrow</td>\n",
       "      <td>The park is open.</td>\n",
       "      <td>...</td>\n",
       "      <td>Twenty-two years after the events of Jurassic ...</td>\n",
       "      <td>124</td>\n",
       "      <td>Action|Adventure|Science Fiction|Thriller</td>\n",
       "      <td>Universal Studios|Amblin Entertainment|Legenda...</td>\n",
       "      <td>6/9/15</td>\n",
       "      <td>5562</td>\n",
       "      <td>6.5</td>\n",
       "      <td>2015</td>\n",
       "      <td>1.379999e+08</td>\n",
       "      <td>1.392446e+09</td>\n",
       "    </tr>\n",
       "    <tr>\n",
       "      <th>1</th>\n",
       "      <td>76341</td>\n",
       "      <td>tt1392190</td>\n",
       "      <td>28.419936</td>\n",
       "      <td>150000000</td>\n",
       "      <td>378436354</td>\n",
       "      <td>Mad Max: Fury Road</td>\n",
       "      <td>Tom Hardy|Charlize Theron|Hugh Keays-Byrne|Nic...</td>\n",
       "      <td>http://www.madmaxmovie.com/</td>\n",
       "      <td>George Miller</td>\n",
       "      <td>What a Lovely Day.</td>\n",
       "      <td>...</td>\n",
       "      <td>An apocalyptic story set in the furthest reach...</td>\n",
       "      <td>120</td>\n",
       "      <td>Action|Adventure|Science Fiction|Thriller</td>\n",
       "      <td>Village Roadshow Pictures|Kennedy Miller Produ...</td>\n",
       "      <td>5/13/15</td>\n",
       "      <td>6185</td>\n",
       "      <td>7.1</td>\n",
       "      <td>2015</td>\n",
       "      <td>1.379999e+08</td>\n",
       "      <td>3.481613e+08</td>\n",
       "    </tr>\n",
       "    <tr>\n",
       "      <th>2</th>\n",
       "      <td>262500</td>\n",
       "      <td>tt2908446</td>\n",
       "      <td>13.112507</td>\n",
       "      <td>110000000</td>\n",
       "      <td>295238201</td>\n",
       "      <td>Insurgent</td>\n",
       "      <td>Shailene Woodley|Theo James|Kate Winslet|Ansel...</td>\n",
       "      <td>http://www.thedivergentseries.movie/#insurgent</td>\n",
       "      <td>Robert Schwentke</td>\n",
       "      <td>One Choice Can Destroy You</td>\n",
       "      <td>...</td>\n",
       "      <td>Beatrice Prior must confront her inner demons ...</td>\n",
       "      <td>119</td>\n",
       "      <td>Adventure|Science Fiction|Thriller</td>\n",
       "      <td>Summit Entertainment|Mandeville Films|Red Wago...</td>\n",
       "      <td>3/18/15</td>\n",
       "      <td>2480</td>\n",
       "      <td>6.3</td>\n",
       "      <td>2015</td>\n",
       "      <td>1.012000e+08</td>\n",
       "      <td>2.716190e+08</td>\n",
       "    </tr>\n",
       "    <tr>\n",
       "      <th>3</th>\n",
       "      <td>140607</td>\n",
       "      <td>tt2488496</td>\n",
       "      <td>11.173104</td>\n",
       "      <td>200000000</td>\n",
       "      <td>2068178225</td>\n",
       "      <td>Star Wars: The Force Awakens</td>\n",
       "      <td>Harrison Ford|Mark Hamill|Carrie Fisher|Adam D...</td>\n",
       "      <td>http://www.starwars.com/films/star-wars-episod...</td>\n",
       "      <td>J.J. Abrams</td>\n",
       "      <td>Every generation has a story.</td>\n",
       "      <td>...</td>\n",
       "      <td>Thirty years after defeating the Galactic Empi...</td>\n",
       "      <td>136</td>\n",
       "      <td>Action|Adventure|Science Fiction|Fantasy</td>\n",
       "      <td>Lucasfilm|Truenorth Productions|Bad Robot</td>\n",
       "      <td>12/15/15</td>\n",
       "      <td>5292</td>\n",
       "      <td>7.5</td>\n",
       "      <td>2015</td>\n",
       "      <td>1.839999e+08</td>\n",
       "      <td>1.902723e+09</td>\n",
       "    </tr>\n",
       "    <tr>\n",
       "      <th>4</th>\n",
       "      <td>168259</td>\n",
       "      <td>tt2820852</td>\n",
       "      <td>9.335014</td>\n",
       "      <td>190000000</td>\n",
       "      <td>1506249360</td>\n",
       "      <td>Furious 7</td>\n",
       "      <td>Vin Diesel|Paul Walker|Jason Statham|Michelle ...</td>\n",
       "      <td>http://www.furious7.com/</td>\n",
       "      <td>James Wan</td>\n",
       "      <td>Vengeance Hits Home</td>\n",
       "      <td>...</td>\n",
       "      <td>Deckard Shaw seeks revenge against Dominic Tor...</td>\n",
       "      <td>137</td>\n",
       "      <td>Action|Crime|Thriller</td>\n",
       "      <td>Universal Pictures|Original Film|Media Rights ...</td>\n",
       "      <td>4/1/15</td>\n",
       "      <td>2947</td>\n",
       "      <td>7.3</td>\n",
       "      <td>2015</td>\n",
       "      <td>1.747999e+08</td>\n",
       "      <td>1.385749e+09</td>\n",
       "    </tr>\n",
       "  </tbody>\n",
       "</table>\n",
       "<p>5 rows × 21 columns</p>\n",
       "</div>"
      ],
      "text/plain": [
       "       id    imdb_id  popularity     budget     revenue  \\\n",
       "0  135397  tt0369610   32.985763  150000000  1513528810   \n",
       "1   76341  tt1392190   28.419936  150000000   378436354   \n",
       "2  262500  tt2908446   13.112507  110000000   295238201   \n",
       "3  140607  tt2488496   11.173104  200000000  2068178225   \n",
       "4  168259  tt2820852    9.335014  190000000  1506249360   \n",
       "\n",
       "                 original_title  \\\n",
       "0                Jurassic World   \n",
       "1            Mad Max: Fury Road   \n",
       "2                     Insurgent   \n",
       "3  Star Wars: The Force Awakens   \n",
       "4                     Furious 7   \n",
       "\n",
       "                                                cast  \\\n",
       "0  Chris Pratt|Bryce Dallas Howard|Irrfan Khan|Vi...   \n",
       "1  Tom Hardy|Charlize Theron|Hugh Keays-Byrne|Nic...   \n",
       "2  Shailene Woodley|Theo James|Kate Winslet|Ansel...   \n",
       "3  Harrison Ford|Mark Hamill|Carrie Fisher|Adam D...   \n",
       "4  Vin Diesel|Paul Walker|Jason Statham|Michelle ...   \n",
       "\n",
       "                                            homepage          director  \\\n",
       "0                      http://www.jurassicworld.com/   Colin Trevorrow   \n",
       "1                        http://www.madmaxmovie.com/     George Miller   \n",
       "2     http://www.thedivergentseries.movie/#insurgent  Robert Schwentke   \n",
       "3  http://www.starwars.com/films/star-wars-episod...       J.J. Abrams   \n",
       "4                           http://www.furious7.com/         James Wan   \n",
       "\n",
       "                         tagline  ...  \\\n",
       "0              The park is open.  ...   \n",
       "1             What a Lovely Day.  ...   \n",
       "2     One Choice Can Destroy You  ...   \n",
       "3  Every generation has a story.  ...   \n",
       "4            Vengeance Hits Home  ...   \n",
       "\n",
       "                                            overview runtime  \\\n",
       "0  Twenty-two years after the events of Jurassic ...     124   \n",
       "1  An apocalyptic story set in the furthest reach...     120   \n",
       "2  Beatrice Prior must confront her inner demons ...     119   \n",
       "3  Thirty years after defeating the Galactic Empi...     136   \n",
       "4  Deckard Shaw seeks revenge against Dominic Tor...     137   \n",
       "\n",
       "                                      genres  \\\n",
       "0  Action|Adventure|Science Fiction|Thriller   \n",
       "1  Action|Adventure|Science Fiction|Thriller   \n",
       "2         Adventure|Science Fiction|Thriller   \n",
       "3   Action|Adventure|Science Fiction|Fantasy   \n",
       "4                      Action|Crime|Thriller   \n",
       "\n",
       "                                production_companies release_date vote_count  \\\n",
       "0  Universal Studios|Amblin Entertainment|Legenda...       6/9/15       5562   \n",
       "1  Village Roadshow Pictures|Kennedy Miller Produ...      5/13/15       6185   \n",
       "2  Summit Entertainment|Mandeville Films|Red Wago...      3/18/15       2480   \n",
       "3          Lucasfilm|Truenorth Productions|Bad Robot     12/15/15       5292   \n",
       "4  Universal Pictures|Original Film|Media Rights ...       4/1/15       2947   \n",
       "\n",
       "   vote_average  release_year    budget_adj   revenue_adj  \n",
       "0           6.5          2015  1.379999e+08  1.392446e+09  \n",
       "1           7.1          2015  1.379999e+08  3.481613e+08  \n",
       "2           6.3          2015  1.012000e+08  2.716190e+08  \n",
       "3           7.5          2015  1.839999e+08  1.902723e+09  \n",
       "4           7.3          2015  1.747999e+08  1.385749e+09  \n",
       "\n",
       "[5 rows x 21 columns]"
      ]
     },
     "execution_count": 2,
     "metadata": {},
     "output_type": "execute_result"
    }
   ],
   "source": [
    "#reads csv file, assigning variable\n",
    "tmdb_dataset = pd.read_csv('tmdb-movies.csv')\n",
    "\n",
    "#prints only the first five rows of the csv\n",
    "tmdb_dataset.head()\n",
    "\n"
   ]
  },
  {
   "cell_type": "markdown",
   "metadata": {},
   "source": [
    "## Determining Relevant Data\n",
    "\n",
    "If we go back and read the questions we have and look for keywords:\n",
    "\n",
    ">What **year** had the highest average **rating**?\n",
    "\n",
    ">What was the average **budget** over each year?\n",
    "\n",
    ">What is the average **runtime** of a **movie**?\n",
    "\n",
    ">Does **budget** affect a **movie's** **rating**?\n",
    "\n",
    "\n",
    "We can notice that my main keywords are budget, rating, year, profit, runtime, and movie(title).  These are the columns we are wanting to keep for analysis, so the many other columns will be removed to provide a much cleaner interface.\n",
    "\n",
    "\n",
    "## Data Cleaning\n",
    "\n",
    "We are removing every column that isn't necessary for our analysis. Since there are multiple columns to delete, we will create a list to delete them all at once."
   ]
  },
  {
   "cell_type": "code",
   "execution_count": 3,
   "metadata": {},
   "outputs": [
    {
     "data": {
      "text/html": [
       "<div>\n",
       "<style scoped>\n",
       "    .dataframe tbody tr th:only-of-type {\n",
       "        vertical-align: middle;\n",
       "    }\n",
       "\n",
       "    .dataframe tbody tr th {\n",
       "        vertical-align: top;\n",
       "    }\n",
       "\n",
       "    .dataframe thead th {\n",
       "        text-align: right;\n",
       "    }\n",
       "</style>\n",
       "<table border=\"1\" class=\"dataframe\">\n",
       "  <thead>\n",
       "    <tr style=\"text-align: right;\">\n",
       "      <th></th>\n",
       "      <th>budget</th>\n",
       "      <th>original_title</th>\n",
       "      <th>runtime</th>\n",
       "      <th>vote_average</th>\n",
       "      <th>release_year</th>\n",
       "    </tr>\n",
       "  </thead>\n",
       "  <tbody>\n",
       "    <tr>\n",
       "      <th>0</th>\n",
       "      <td>150000000</td>\n",
       "      <td>Jurassic World</td>\n",
       "      <td>124</td>\n",
       "      <td>6.5</td>\n",
       "      <td>2015</td>\n",
       "    </tr>\n",
       "    <tr>\n",
       "      <th>1</th>\n",
       "      <td>150000000</td>\n",
       "      <td>Mad Max: Fury Road</td>\n",
       "      <td>120</td>\n",
       "      <td>7.1</td>\n",
       "      <td>2015</td>\n",
       "    </tr>\n",
       "    <tr>\n",
       "      <th>2</th>\n",
       "      <td>110000000</td>\n",
       "      <td>Insurgent</td>\n",
       "      <td>119</td>\n",
       "      <td>6.3</td>\n",
       "      <td>2015</td>\n",
       "    </tr>\n",
       "    <tr>\n",
       "      <th>3</th>\n",
       "      <td>200000000</td>\n",
       "      <td>Star Wars: The Force Awakens</td>\n",
       "      <td>136</td>\n",
       "      <td>7.5</td>\n",
       "      <td>2015</td>\n",
       "    </tr>\n",
       "    <tr>\n",
       "      <th>4</th>\n",
       "      <td>190000000</td>\n",
       "      <td>Furious 7</td>\n",
       "      <td>137</td>\n",
       "      <td>7.3</td>\n",
       "      <td>2015</td>\n",
       "    </tr>\n",
       "  </tbody>\n",
       "</table>\n",
       "</div>"
      ],
      "text/plain": [
       "      budget                original_title  runtime  vote_average  \\\n",
       "0  150000000                Jurassic World      124           6.5   \n",
       "1  150000000            Mad Max: Fury Road      120           7.1   \n",
       "2  110000000                     Insurgent      119           6.3   \n",
       "3  200000000  Star Wars: The Force Awakens      136           7.5   \n",
       "4  190000000                     Furious 7      137           7.3   \n",
       "\n",
       "   release_year  \n",
       "0          2015  \n",
       "1          2015  \n",
       "2          2015  \n",
       "3          2015  \n",
       "4          2015  "
      ]
     },
     "execution_count": 3,
     "metadata": {},
     "output_type": "execute_result"
    }
   ],
   "source": [
    "#First we create a copy of the dataset to preserve the original\n",
    "clean_data = tmdb_dataset.copy()\n",
    "\n",
    "#list of columns to delete\n",
    "columns_to_remove = ['id', 'imdb_id', 'popularity', 'revenue', 'cast', 'homepage', 'director', 'tagline', 'overview', 'genres', 'production_companies', 'release_date', 'vote_count', 'budget_adj', 'revenue_adj', 'keywords']\n",
    "\n",
    "#create new dataset with relevant information.  Since it will eventually be our refined and clean data, we will name it clean_data.\n",
    "clean_data = clean_data.drop(columns_to_remove, 1)\n",
    "\n",
    "#return first five rows of data to ensure deletion was successful\n",
    "clean_data.head()"
   ]
  },
  {
   "cell_type": "markdown",
   "metadata": {},
   "source": [
    "The first five rows have been printed like we did earlier but this time it has created a much easier table to read with all of the irrelevant information removed.\n",
    "\n",
    "We aren't quite done with cleaning the data table.  We want to make sure there aren't any entries that are duplicates or have any blank entries because that could potentially skew our results for our future analysis of the data.\n",
    "\n",
    "First, we want to know the current total number of entries in our dataset so that if we delete any duplicates, it will show us if we removed any duplicates.\n",
    "\n"
   ]
  },
  {
   "cell_type": "code",
   "execution_count": 4,
   "metadata": {},
   "outputs": [
    {
     "data": {
      "text/plain": [
       "10866"
      ]
     },
     "execution_count": 4,
     "metadata": {},
     "output_type": "execute_result"
    }
   ],
   "source": [
    "#finding the current number of entries\n",
    "\n",
    "len(clean_data.index)"
   ]
  },
  {
   "cell_type": "markdown",
   "metadata": {},
   "source": [
    "We see that there are 10,866 entries in our current table.  Now let's remove any duplicates if there are any."
   ]
  },
  {
   "cell_type": "code",
   "execution_count": 5,
   "metadata": {},
   "outputs": [
    {
     "data": {
      "text/plain": [
       "10865"
      ]
     },
     "execution_count": 5,
     "metadata": {},
     "output_type": "execute_result"
    }
   ],
   "source": [
    "#First we always create a copy of the dataset to preserve each section's dataset\n",
    "cl_data = clean_data.copy()\n",
    "\n",
    "#removing duplicates and keeping first occurrence, if any.\n",
    "cl_data.drop_duplicates(keep='first', inplace = True)\n",
    "\n",
    "#checking number of entries again\n",
    "len(cl_data.index)"
   ]
  },
  {
   "cell_type": "markdown",
   "metadata": {},
   "source": [
    "It looks like there was one duplicate in the dataset.  Now we want to look for anything that may have a 0 value. After ordering the csv file from smallest to largest and doing a quick glance over the remaining columns, there were multiple 0 values for budget and runtime. This would greatly impact our results later in the investigation.  We will remove these values and replace them with NaN(not a number). This will make it easier to remove rows with missing data.  Then the rows with a NaN value will be removed."
   ]
  },
  {
   "cell_type": "code",
   "execution_count": 6,
   "metadata": {},
   "outputs": [
    {
     "data": {
      "text/plain": [
       "5166"
      ]
     },
     "execution_count": 6,
     "metadata": {},
     "output_type": "execute_result"
    }
   ],
   "source": [
    "#First we always create a copy of the dataset to preserve each section's dataset\n",
    "cl_data2 = cl_data.copy()\n",
    "\n",
    "#Creating a list of values that have at least one 0 value\n",
    "zero_values = ['budget', 'runtime']\n",
    "\n",
    "#Replacing any 0 values with NaN(not a number)\n",
    "cl_data2[zero_values] = cl_data2[zero_values].replace(0, np.NaN)\n",
    "\n",
    "#Since NaN values could skew our future analysis, we will remove the rows completely  \n",
    "#subset = list values to drop\n",
    "#inplace = if NaN is included in the value\n",
    "cl_data2.dropna(subset = zero_values, inplace = True)\n",
    "\n",
    "#Checking our number of entries one last time\n",
    "len(cl_data2.index)\n",
    "\n",
    "\n",
    "\n"
   ]
  },
  {
   "cell_type": "markdown",
   "metadata": {},
   "source": [
    "After cleaning our data even further, it looks like 5,166 movies remain and will be the focus of our data analysis.\n",
    "\n",
    "One last thing we want to check is the datatype of each column.  This is to make sure everything is correct so our formulas return the proper outcome."
   ]
  },
  {
   "cell_type": "code",
   "execution_count": 7,
   "metadata": {},
   "outputs": [
    {
     "data": {
      "text/plain": [
       "budget            float64\n",
       "original_title     object\n",
       "runtime           float64\n",
       "vote_average      float64\n",
       "release_year        int64\n",
       "dtype: object"
      ]
     },
     "execution_count": 7,
     "metadata": {},
     "output_type": "execute_result"
    }
   ],
   "source": [
    "#Prints a list of columns and their current datatypes\n",
    "cl_data2.dtypes"
   ]
  },
  {
   "cell_type": "markdown",
   "metadata": {},
   "source": [
    "For convenience, we will change budget and runtime to integers.  That way budget is easier to read and runtime rounds to the nearest minute."
   ]
  },
  {
   "cell_type": "code",
   "execution_count": 8,
   "metadata": {},
   "outputs": [
    {
     "data": {
      "text/plain": [
       "budget              int64\n",
       "original_title     object\n",
       "runtime             int64\n",
       "vote_average      float64\n",
       "release_year        int64\n",
       "dtype: object"
      ]
     },
     "execution_count": 8,
     "metadata": {},
     "output_type": "execute_result"
    }
   ],
   "source": [
    "#First we always create a copy of the dataset to preserve each section's dataset\n",
    "cl_data3 = cl_data2.copy()\n",
    "\n",
    "#create a list of columns that will have their datatypes changed\n",
    "float_to_int = ['budget', 'runtime']\n",
    "\n",
    "#use the applymap function to convert them to an integer\n",
    "cl_data3[float_to_int] = cl_data3[float_to_int].applymap(np.int64)\n",
    "\n",
    "#Let's check the updated data types\n",
    "cl_data3.dtypes"
   ]
  },
  {
   "cell_type": "markdown",
   "metadata": {},
   "source": [
    "<a id='eda'></a>\n",
    "## Exploratory Data Analysis\n",
    "\n",
    "Now it is time for us to dig into the clean data we have and analyze our findings.  \n",
    "\n",
    "### Research Question 1:  What year had the highest average rating?\n",
    "\n",
    "For this question, I will first be separating all of the movie data by their release year."
   ]
  },
  {
   "cell_type": "code",
   "execution_count": 9,
   "metadata": {},
   "outputs": [
    {
     "data": {
      "text/plain": [
       "release_year\n",
       "1960    7.0\n",
       "1961    6.6\n",
       "1962    6.7\n",
       "1963    6.5\n",
       "1964    6.8\n",
       "Name: vote_average, dtype: float64"
      ]
     },
     "execution_count": 9,
     "metadata": {},
     "output_type": "execute_result"
    }
   ],
   "source": [
    "#Separating the data by year and finding the mean(average) rating for each year\n",
    "movies_by_year = cl_data3.groupby('release_year')['vote_average'].mean() \n",
    "\n",
    "#To keep it clean, we will round the average rating to the nearest tenth just like the original ratings from the dataset\n",
    "#We will also display the first five years to make sure the data displays correctly\n",
    "\n",
    "movies_by_year.round(1).head()\n"
   ]
  },
  {
   "cell_type": "markdown",
   "metadata": {},
   "source": [
    "Now that each year correctly shows their average rating, let's go ahead and display the year with the highest average rating."
   ]
  },
  {
   "cell_type": "code",
   "execution_count": 10,
   "metadata": {},
   "outputs": [
    {
     "data": {
      "text/plain": [
       "1960"
      ]
     },
     "execution_count": 10,
     "metadata": {},
     "output_type": "execute_result"
    }
   ],
   "source": [
    "#finding the maximum column value of vote_average\n",
    "movies_by_year.idxmax()"
   ]
  },
  {
   "cell_type": "markdown",
   "metadata": {},
   "source": [
    "So 1960 has the highest average rating with a 7.0.  Let's get a better visual by plotting this on a graph."
   ]
  },
  {
   "cell_type": "code",
   "execution_count": 11,
   "metadata": {
    "scrolled": false
   },
   "outputs": [
    {
     "data": {
      "image/png": "[encoded data removed]",
      "text/plain": [
       "<Figure size 1152x864 with 1 Axes>"
      ]
     },
     "metadata": {
      "needs_background": "light"
     },
     "output_type": "display_data"
    }
   ],
   "source": [
    "#Customizing the size of the graph\n",
    "plt.figure(figsize = (16, 12))\n",
    "\n",
    "#Placing a title and its font size\n",
    "plt.title('Average Movie Rating by Year', fontsize = 15)\n",
    "\n",
    "#Changing font size of labels\n",
    "plt.xlabel(\"release_year\", fontsize = 10)\n",
    "plt.ylabel('vote_average', fontsize = 10)\n",
    "\n",
    "\n",
    "#Plotting our movie_profits dataframe as a bar graph and displaying results\n",
    "movies_by_year.plot(x = 'release_year', kind = 'bar')\n",
    "plt.show()\n"
   ]
  },
  {
   "cell_type": "markdown",
   "metadata": {},
   "source": [
    "As shown by the graph, the bar depicting 1960 is visually higher than every other year.  This accurately paints a picture of the year with the highest average rating.  Over the course of the timeline, the ratings are very similar, staying in the range between 6 and 7 with a couple exceptions."
   ]
  },
  {
   "cell_type": "markdown",
   "metadata": {},
   "source": [
    "### Research Question 2: What was the average budget over each year?"
   ]
  },
  {
   "cell_type": "markdown",
   "metadata": {},
   "source": [
    "To answer this question, we will modify the dataframe to split the data into release year just like we did above. This time, however, our additional column will be budget.\n",
    "\n",
    "This will be represented as a line graph to show the budget changes over the years."
   ]
  },
  {
   "cell_type": "code",
   "execution_count": 12,
   "metadata": {},
   "outputs": [
    {
     "data": {
      "image/png": "[encoded data removed]",
      "text/plain": [
       "<Figure size 1152x576 with 1 Axes>"
      ]
     },
     "metadata": {
      "needs_background": "light"
     },
     "output_type": "display_data"
    }
   ],
   "source": [
    "#We will first grab the release year and budget from our dataframe and find the average budget for each year\n",
    "movie_profits = cl_data3.groupby('release_year')['budget'].mean()\n",
    "\n",
    "#Next we will display the results as a line graph to show the changes over time\n",
    "\n",
    "#Customizing the size of the graph\n",
    "plt.figure(figsize = (16, 8))\n",
    "\n",
    "#Placing a title and its font size\n",
    "plt.title('Average Budget Over the Years', fontsize = 15)\n",
    "\n",
    "#Renaming the x and y axis for a cleaner display, font size the same as the bar graph\n",
    "plt.xlabel('Release Year', fontsize = 10)\n",
    "plt.ylabel('Average Budget', fontsize = 10)\n",
    "\n",
    "#Plotting our movie_profits dataframe and displaying the results\n",
    "plt.plot(movie_profits)\n",
    "plt.show()\n"
   ]
  },
  {
   "cell_type": "markdown",
   "metadata": {},
   "source": [
    "Since movie budget numbers can be in the hundreds of millions, the budget has been simplified to display smaller numbers on the graph.  The 1e7 at the top left of the graph just shows that it omits some of the zeros in the numbers.  The graph is still an accurate representation of the budget over the years.  \n",
    "\n",
    "Just by looking at the graph, it does show a sharp increase of a movie's budget from 1970 to the early 2000s.  After the 2000s, it looks as though the budget tries to even out with occasional dips through 2015.  "
   ]
  },
  {
   "cell_type": "markdown",
   "metadata": {},
   "source": [
    "### Research Question 3: What is the average runtime of a movie?"
   ]
  },
  {
   "cell_type": "markdown",
   "metadata": {},
   "source": [
    "To find the average runtime,  we can take our data and find the mean of all the runtimes.  This will also be similar to how we calculated averages previously."
   ]
  },
  {
   "cell_type": "code",
   "execution_count": 13,
   "metadata": {},
   "outputs": [
    {
     "data": {
      "text/plain": [
       "107.15834301200155"
      ]
     },
     "execution_count": 13,
     "metadata": {},
     "output_type": "execute_result"
    }
   ],
   "source": [
    "#Finding the mean(average) runtime for every movie in our dataframe\n",
    "cl_data3['runtime'].mean()\n"
   ]
  },
  {
   "cell_type": "markdown",
   "metadata": {},
   "source": [
    "If we rounded to the nearest whole number, it appears that the average runtime of a movie between 1960 and 2015 is around 107 minutes. \n",
    "\n",
    "\n",
    "The average runtime of a movie can be visually shown in many ways.  For this one, we will use a line graph to see how it changed over time.\n"
   ]
  },
  {
   "cell_type": "code",
   "execution_count": 14,
   "metadata": {},
   "outputs": [
    {
     "data": {
      "image/png": "[encoded data removed]",
      "text/plain": [
       "<Figure size 1152x576 with 1 Axes>"
      ]
     },
     "metadata": {
      "needs_background": "light"
     },
     "output_type": "display_data"
    }
   ],
   "source": [
    "#We will first grab the release year and runtime from our dataframe and find the average runtime for each year\n",
    "movie_runtime = cl_data3.groupby('release_year')['runtime'].mean()\n",
    "\n",
    "#Next we will display the results as a line graph to show the changes over time\n",
    "\n",
    "#Customizing the size of the graph\n",
    "plt.figure(figsize = (16, 8))\n",
    "\n",
    "#Placing a title and its font size\n",
    "plt.title('Average Runtime Over the Years', fontsize = 15)\n",
    "\n",
    "#Renaming the x and y axis for a cleaner display, font size the same as the line graph\n",
    "plt.xlabel('Release Year', fontsize = 10)\n",
    "plt.ylabel('Average Runtime', fontsize = 10)\n",
    "\n",
    "#Plotting our movie_runtime dataframe and displaying the results\n",
    "plt.plot(movie_runtime)\n",
    "plt.show()"
   ]
  },
  {
   "cell_type": "markdown",
   "metadata": {},
   "source": [
    "This graph was not what I was expecting and that's what is so great about analyzing data.  Finding the answer is one thing, but when you visualize it in a graph, you never know what can happen.  \n",
    "\n",
    "It looks as though in the 1960s movies were generally longer than later years.  This could raise the possibility of film makers realizing that people are more attentive through a shorter movie?  It can be interpreted in many ways."
   ]
  },
  {
   "cell_type": "markdown",
   "metadata": {},
   "source": [
    "### Final Question: Does budget affect a movie's rating?"
   ]
  },
  {
   "cell_type": "markdown",
   "metadata": {},
   "source": [
    "This question will be a little different than the previous three.  We need to see what the correlation is between budget and vote average.  A scatter plot will be perfect to help answer this because they are specifically used to show how much one variable is affected by another.\n",
    "\n",
    "First we will create a list showing both a movie's budget and their vote average."
   ]
  },
  {
   "cell_type": "code",
   "execution_count": 15,
   "metadata": {},
   "outputs": [
    {
     "data": {
      "text/html": [
       "<div>\n",
       "<style scoped>\n",
       "    .dataframe tbody tr th:only-of-type {\n",
       "        vertical-align: middle;\n",
       "    }\n",
       "\n",
       "    .dataframe tbody tr th {\n",
       "        vertical-align: top;\n",
       "    }\n",
       "\n",
       "    .dataframe thead th {\n",
       "        text-align: right;\n",
       "    }\n",
       "</style>\n",
       "<table border=\"1\" class=\"dataframe\">\n",
       "  <thead>\n",
       "    <tr style=\"text-align: right;\">\n",
       "      <th></th>\n",
       "      <th>budget</th>\n",
       "      <th>vote_average</th>\n",
       "    </tr>\n",
       "  </thead>\n",
       "  <tbody>\n",
       "    <tr>\n",
       "      <th>0</th>\n",
       "      <td>150000000</td>\n",
       "      <td>6.5</td>\n",
       "    </tr>\n",
       "    <tr>\n",
       "      <th>1</th>\n",
       "      <td>150000000</td>\n",
       "      <td>7.1</td>\n",
       "    </tr>\n",
       "    <tr>\n",
       "      <th>2</th>\n",
       "      <td>110000000</td>\n",
       "      <td>6.3</td>\n",
       "    </tr>\n",
       "    <tr>\n",
       "      <th>3</th>\n",
       "      <td>200000000</td>\n",
       "      <td>7.5</td>\n",
       "    </tr>\n",
       "    <tr>\n",
       "      <th>4</th>\n",
       "      <td>190000000</td>\n",
       "      <td>7.3</td>\n",
       "    </tr>\n",
       "  </tbody>\n",
       "</table>\n",
       "</div>"
      ],
      "text/plain": [
       "      budget  vote_average\n",
       "0  150000000           6.5\n",
       "1  150000000           7.1\n",
       "2  110000000           6.3\n",
       "3  200000000           7.5\n",
       "4  190000000           7.3"
      ]
     },
     "execution_count": 15,
     "metadata": {},
     "output_type": "execute_result"
    }
   ],
   "source": [
    "#Creating a list of budget and the vote average associated with it\n",
    "budget_and_rating = cl_data3[['budget', 'vote_average']]\n",
    "\n",
    "#Displaying the first five results to make sure it was created correctly\n",
    "budget_and_rating.head()"
   ]
  },
  {
   "cell_type": "markdown",
   "metadata": {},
   "source": [
    "It looks like our list is ready to be plotted. Again, A scatter plot will be perfect to help answer this because they are specifically used to show how much one variable is affected by another."
   ]
  },
  {
   "cell_type": "code",
   "execution_count": 16,
   "metadata": {},
   "outputs": [
    {
     "data": {
      "image/png": "[encoded data removed]",
      "text/plain": [
       "<Figure size 1152x576 with 1 Axes>"
      ]
     },
     "metadata": {
      "needs_background": "light"
     },
     "output_type": "display_data"
    }
   ],
   "source": [
    "\n",
    "\n",
    "plt.figure(figsize = (16, 8))\n",
    "#Giving labels for title, x, and y then changing their font size\n",
    "plt.title('Budget and Average Rating Correlation', fontsize = 15)\n",
    "plt.xlabel('Budget', fontsize = 10)\n",
    "plt.ylabel('Average Rating', fontsize = 10)\n",
    "\n",
    "#plotting the dataframe\n",
    "plt.scatter(budget_and_rating.budget, budget_and_rating.vote_average)\n",
    "plt.show()\n"
   ]
  },
  {
   "cell_type": "markdown",
   "metadata": {},
   "source": [
    "Let's calculate the actual correlation."
   ]
  },
  {
   "cell_type": "code",
   "execution_count": 17,
   "metadata": {},
   "outputs": [
    {
     "data": {
      "text/html": [
       "<div>\n",
       "<style scoped>\n",
       "    .dataframe tbody tr th:only-of-type {\n",
       "        vertical-align: middle;\n",
       "    }\n",
       "\n",
       "    .dataframe tbody tr th {\n",
       "        vertical-align: top;\n",
       "    }\n",
       "\n",
       "    .dataframe thead th {\n",
       "        text-align: right;\n",
       "    }\n",
       "</style>\n",
       "<table border=\"1\" class=\"dataframe\">\n",
       "  <thead>\n",
       "    <tr style=\"text-align: right;\">\n",
       "      <th></th>\n",
       "      <th>budget</th>\n",
       "      <th>vote_average</th>\n",
       "    </tr>\n",
       "  </thead>\n",
       "  <tbody>\n",
       "    <tr>\n",
       "      <th>budget</th>\n",
       "      <td>1.000000</td>\n",
       "      <td>0.091485</td>\n",
       "    </tr>\n",
       "    <tr>\n",
       "      <th>vote_average</th>\n",
       "      <td>0.091485</td>\n",
       "      <td>1.000000</td>\n",
       "    </tr>\n",
       "  </tbody>\n",
       "</table>\n",
       "</div>"
      ],
      "text/plain": [
       "                budget  vote_average\n",
       "budget        1.000000      0.091485\n",
       "vote_average  0.091485      1.000000"
      ]
     },
     "execution_count": 17,
     "metadata": {},
     "output_type": "execute_result"
    }
   ],
   "source": [
    "#Correlation of the two variables\n",
    "budget_and_rating.corr()"
   ]
  },
  {
   "cell_type": "markdown",
   "metadata": {},
   "source": [
    "According to the data, there seems to be no correlation between the two.  The number is so close to 0 and indicates that there probably isn't much of a relationship at all."
   ]
  },
  {
   "cell_type": "markdown",
   "metadata": {},
   "source": [
    "<a id='conclusions'></a>\n",
    "## Conclusions\n",
    "\n",
    "Let's review.\n",
    "\n",
    "**Question 1: What year had the highest average rating?**\n",
    "\n",
    "**Question 2:  What was the average budget over each year?**\n",
    "\n",
    "**Question 3:  What is the average runtime of a movie?**\n",
    "\n",
    "**Question 4:  Does budget affect a movie's rating?**\n",
    "\n",
    "After analyzing the data to better answer these questions, we found answers that could give general representations as to why the output was given. For example, question 1 returned 1960 as the year with the highest average rating.  We could have gone much deeper into the numbers and analyzed how many movies were released each year and factor that into our approach.\n",
    "\n",
    "There are so many variables that could affect the outcome of an analyzation.  For this project, the results we obtained were on more of a basic understanding of how to analyze data.  Just like question 1, we could go into much more depth to further answer the other questions, so the results are limited to what was learned throughout the course of study.\n",
    "\n",
    "Also while concluding the results, data analysis can be surprising too.  For example in question 3, the visual line graph to me was very unexpected when viewing what the average runtime was over the years. I didn't expect the large drop early on and it made me appreciate how important it is to view data in more ways than one. \n",
    "\n"
   ]
  }
 ],
 "metadata": {
  "kernelspec": {
   "display_name": "Python 2",
   "language": "python",
   "name": "python2"
  },
  "language_info": {
   "codemirror_mode": {
    "name": "ipython",
    "version": 2
   },
   "file_extension": ".py",
   "mimetype": "text/x-python",
   "name": "python",
   "nbconvert_exporter": "python",
   "pygments_lexer": "ipython2",
   "version": "2.7.16"
  }
 },
 "nbformat": 4,
 "nbformat_minor": 2
}
